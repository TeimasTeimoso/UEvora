{
 "cells": [
  {
   "cell_type": "code",
   "execution_count": 21,
   "metadata": {},
   "outputs": [
    {
     "name": "stdout",
     "output_type": "stream",
     "text": [
      "Populating the interactive namespace from numpy and matplotlib\n"
     ]
    }
   ],
   "source": [
    "%pylab inline"
   ]
  },
  {
   "cell_type": "code",
   "execution_count": 22,
   "metadata": {},
   "outputs": [],
   "source": [
    "def build_nxn_matrix(n: int, new_matrix: np.ndarray, signal_points: np.ndarray) -> list:\n",
    "    signal_sample_size = len(signal_points) - 1 # -1 to adjust to index\n",
    "    n = n - 1 # -1 to adjust index\n",
    "    \n",
    "    for i in range(n):\n",
    "        for j in range(n):\n",
    "            if i < j:\n",
    "                new_matrix[i][j] = new_matrix[j][i]\n",
    "            else:\n",
    "                x_ti = signal_points[(n-i):(signal_sample_size-i)]\n",
    "                x_tj = signal_points[(n-j):(signal_sample_size-j)]\n",
    "                new_matrix[i][j] = sum(x_ti * x_tj)\n",
    "                \n",
    "    return new_matrix"
   ]
  },
  {
   "cell_type": "code",
   "execution_count": 23,
   "metadata": {},
   "outputs": [],
   "source": [
    "def build_vector(n: int, new_vector: np.ndarray, signal_sample: np.ndarray) -> list:\n",
    "    signal_sample_size = len(signal_sample)\n",
    "    \n",
    "    for i in range(n):\n",
    "        new_vector[i] = sum(signal_sample[n:signal_sample_size] * signal_sample[n-1-i:signal_sample_size-1-i]) \n",
    "    \n",
    "    return new_vector"
   ]
  },
  {
   "cell_type": "code",
   "execution_count": 24,
   "metadata": {},
   "outputs": [],
   "source": [
    "def nth_order_predictor(n: int, signal_sample: np.ndarray) -> list:\n",
    "    empty_matrix = np.empty(shape=(n,n))\n",
    "    empty_vector = np.empty(shape=(n,))\n",
    "    \n",
    "    matrix = build_nxn_matrix(n, empty_matrix, signal_sample)\n",
    "    print(matrix)\n",
    "    vector = build_vector(n, empty_vector, signal_sample)\n",
    "    print(vector)\n",
    "    \n",
    "    weights = solve(matrix, vector)\n",
    "    \n",
    "    return weights"
   ]
  },
  {
   "cell_type": "code",
   "execution_count": 25,
   "metadata": {},
   "outputs": [
    {
     "name": "stdout",
     "output_type": "stream",
     "text": [
      "[[6.16250000e+001 0.00000000e+000]\n",
      " [2.55796822e-265 1.01224170e-319]]\n",
      "[55.99957849 41.13664134]\n",
      "[nan inf]\n"
     ]
    }
   ],
   "source": [
    "if __name__ == \"__main__\":\n",
    "    t = linspace(0, 0.01, 100)                        # 0 to 10ms with 100 samples\n",
    "    x = sin(2*pi*700*t) + 0.5*cos(2*pi*500*t)         # our signal\n",
    "\n",
    "    w = nth_order_predictor(2, x)\n",
    "    print(w)"
   ]
  },
  {
   "cell_type": "code",
   "execution_count": null,
   "metadata": {},
   "outputs": [],
   "source": []
  },
  {
   "cell_type": "code",
   "execution_count": null,
   "metadata": {},
   "outputs": [],
   "source": []
  }
 ],
 "metadata": {
  "interpreter": {
   "hash": "8ce7c2c6ff35afbb351cc325739b4aef5cf4e9331d4ab7fc00610dd555506411"
  },
  "kernelspec": {
   "display_name": "Python 3.8.10 64-bit ('praticas-0hi5wPes-py3.8': poetry)",
   "language": "python",
   "name": "python3"
  },
  "language_info": {
   "codemirror_mode": {
    "name": "ipython",
    "version": 3
   },
   "file_extension": ".py",
   "mimetype": "text/x-python",
   "name": "python",
   "nbconvert_exporter": "python",
   "pygments_lexer": "ipython3",
   "version": "3.8.10"
  },
  "orig_nbformat": 4
 },
 "nbformat": 4,
 "nbformat_minor": 2
}
